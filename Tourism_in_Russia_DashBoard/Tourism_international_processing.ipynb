{
 "cells": [
  {
   "cell_type": "markdown",
   "id": "ec7c87ef-1a48-4712-8682-93e6d2712ee3",
   "metadata": {},
   "source": [
    "# Предобработка данных Ростуризма для собственного дашборда – Внешний туризм\n",
    "\n",
    "Проблематика работы:\n",
    "- Выгрузка данных от Ростуризма неудобная, содержит накопленные квартальные значения по годам, вместо значений по кварталам\n",
    "- Ростуризм умудрились и Дашборд построить только по накопленным значениям, информативность очень скудная\n",
    "- Нужно предобработать данные с отчетов Ростуризма: https://rosstat.gov.ru/statistics/turizm для построения собственного дашборда для мониторинга основных показателей индустрии\n"
   ]
  },
  {
   "cell_type": "code",
   "execution_count": 1,
   "id": "b7b94174-8790-4819-942a-eca5aa93f57b",
   "metadata": {},
   "outputs": [],
   "source": [
    "import pandas as pd\n",
    "import numpy as np\n",
    "from matplotlib import pyplot as plt\n",
    "import seaborn as sns\n",
    "from numpy import median\n",
    "\n",
    "\n",
    "pd.set_option('display.max_columns', None)\n",
    "pd.set_option('display.float_format', lambda x: '%.2f' % x)\n",
    "\n"
   ]
  },
  {
   "cell_type": "code",
   "execution_count": 2,
   "id": "16eefb3d-b33f-47e7-9b8a-bb84985cc587",
   "metadata": {},
   "outputs": [],
   "source": [
    "in16 = pd.read_excel ('Дашборд по туризму/Poezdki_06-2025.xlsx', sheet_name='1.2016', skiprows=4)\n",
    "in17 = pd.read_excel ('Дашборд по туризму/Poezdki_06-2025.xlsx', sheet_name='1.2017', skiprows=4)\n",
    "in18 = pd.read_excel ('Дашборд по туризму/Poezdki_06-2025.xlsx', sheet_name='1.2018', skiprows=4)\n",
    "in19 = pd.read_excel ('Дашборд по туризму/Poezdki_06-2025.xlsx', sheet_name='1.2019', skiprows=4)\n",
    "in20 = pd.read_excel ('Дашборд по туризму/Poezdki_06-2025.xlsx', sheet_name='1.2020', skiprows=4)\n",
    "in21 = pd.read_excel ('Дашборд по туризму/Poezdki_06-2025.xlsx', sheet_name='1.2021', skiprows=4)\n",
    "in22 = pd.read_excel ('Дашборд по туризму/Poezdki_06-2025.xlsx', sheet_name='1.2022', skiprows=4)\n",
    "in23 = pd.read_excel ('Дашборд по туризму/Poezdki_06-2025.xlsx', sheet_name='1.2023', skiprows=4)\n",
    "in24 = pd.read_excel ('Дашборд по туризму/Poezdki_06-2025.xlsx', sheet_name='1.2024', skiprows=4)\n",
    "in25 = pd.read_excel ('Дашборд по туризму/Poezdki_06-2025.xlsx', sheet_name='1.2025', skiprows=4)\n",
    "\n",
    "out16 = pd.read_excel ('Дашборд по туризму/Poezdki_06-2025.xlsx', sheet_name='2.2016', skiprows=4)\n",
    "out17 = pd.read_excel ('Дашборд по туризму/Poezdki_06-2025.xlsx', sheet_name='2.2017', skiprows=4)\n",
    "out18 = pd.read_excel ('Дашборд по туризму/Poezdki_06-2025.xlsx', sheet_name='2.2018', skiprows=4)\n",
    "out19 = pd.read_excel ('Дашборд по туризму/Poezdki_06-2025.xlsx', sheet_name='2.2019', skiprows=4)\n",
    "out20 = pd.read_excel ('Дашборд по туризму/Poezdki_06-2025.xlsx', sheet_name='2.2020', skiprows=4)\n",
    "out21 = pd.read_excel ('Дашборд по туризму/Poezdki_06-2025.xlsx', sheet_name='2.2021', skiprows=4)\n",
    "out22 = pd.read_excel ('Дашборд по туризму/Poezdki_06-2025.xlsx', sheet_name='2.2022', skiprows=4)\n",
    "out23 = pd.read_excel ('Дашборд по туризму/Poezdki_06-2025.xlsx', sheet_name='2.2023', skiprows=4)\n",
    "out24 = pd.read_excel ('Дашборд по туризму/Poezdki_06-2025.xlsx', sheet_name='2.2024', skiprows=4)\n",
    "out25 = pd.read_excel ('Дашборд по туризму/Poezdki_06-2025.xlsx', sheet_name='2.2025', skiprows=4)"
   ]
  },
  {
   "cell_type": "code",
   "execution_count": 3,
   "id": "41d870ca-c5b3-4cfb-84e4-c00bd645cb34",
   "metadata": {},
   "outputs": [],
   "source": [
    "in_list =[in16,in17,in18,in19,in20,in21,in22,in23,in24,in25]\n",
    "out_list =[out16,out17,out18,out19,out20,out21,out22,out23,out24,out25]"
   ]
  },
  {
   "cell_type": "code",
   "execution_count": 4,
   "id": "9eacfe5b-6d53-460b-a7d8-1abc5dbf1b6e",
   "metadata": {},
   "outputs": [],
   "source": [
    "data = pd.DataFrame(columns=['date','country','incoming','outgoing'])"
   ]
  },
  {
   "cell_type": "code",
   "execution_count": 5,
   "id": "83fccd7c-7eed-4089-891d-9df949e1ae7c",
   "metadata": {},
   "outputs": [
    {
     "data": {
      "text/plain": [
       "2016"
      ]
     },
     "metadata": {},
     "output_type": "display_data"
    },
    {
     "name": "stderr",
     "output_type": "stream",
     "text": [
      "C:\\Users\\user\\AppData\\Local\\Temp\\ipykernel_18596\\2531573458.py:51: FutureWarning: The behavior of DataFrame concatenation with empty or all-NA entries is deprecated. In a future version, this will no longer exclude empty or all-NA columns when determining the result dtypes. To retain the old behavior, exclude the relevant entries before the concat operation.\n",
      "  data = pd.concat([data,q1,q2,q3,q4])\n"
     ]
    },
    {
     "data": {
      "text/plain": [
       "2017"
      ]
     },
     "metadata": {},
     "output_type": "display_data"
    },
    {
     "data": {
      "text/plain": [
       "2018"
      ]
     },
     "metadata": {},
     "output_type": "display_data"
    },
    {
     "data": {
      "text/plain": [
       "2019"
      ]
     },
     "metadata": {},
     "output_type": "display_data"
    },
    {
     "data": {
      "text/plain": [
       "2020"
      ]
     },
     "metadata": {},
     "output_type": "display_data"
    },
    {
     "data": {
      "text/plain": [
       "2021"
      ]
     },
     "metadata": {},
     "output_type": "display_data"
    },
    {
     "data": {
      "text/plain": [
       "2022"
      ]
     },
     "metadata": {},
     "output_type": "display_data"
    },
    {
     "data": {
      "text/plain": [
       "2023"
      ]
     },
     "metadata": {},
     "output_type": "display_data"
    },
    {
     "data": {
      "text/plain": [
       "2024"
      ]
     },
     "metadata": {},
     "output_type": "display_data"
    },
    {
     "data": {
      "text/plain": [
       "2025"
      ]
     },
     "metadata": {},
     "output_type": "display_data"
    }
   ],
   "source": [
    "for i in range(len(in_list)):\n",
    "    a=2016+i\n",
    "    display(a)\n",
    "    in0 = in_list[i]\n",
    "    out0 = out_list[i]\n",
    "    in0.columns = in0.columns.str.replace('Январь-декабрь1)','Январь-декабрь')\n",
    "    in0.columns = in0.columns.str.replace('Январь-сентябрь1)','Январь-сентябрь')\n",
    "    in0.columns = in0.columns.str.replace('Январь-июнь1)','Январь-июнь')\n",
    "    in0.columns = in0.columns.str.replace('Январь-март1)','Январь-март')\n",
    "    out0.columns = out0.columns.str.replace('Январь-декабрь1)','Январь-декабрь')\n",
    "    out0.columns = out0.columns.str.replace('Январь-сентябрь1)','Январь-сентябрь')\n",
    "    out0.columns = out0.columns.str.replace('Январь-июнь1)','Январь-июнь')\n",
    "    out0.columns = out0.columns.str.replace('Январь-март1)','Январь-март')\n",
    "    \n",
    "    in0.columns = in0.columns.str.replace('Январь-декабрь*','Январь-декабрь')\n",
    "    out0.columns = out0.columns.str.replace('Январь-декабрь*','Январь-декабрь')\n",
    "\n",
    "    year = in0.merge(out0, how='outer', on='Unnamed: 0')\n",
    "    year = year.replace(',','.')\n",
    "\n",
    "    year['Январь-декабрь_x'] = pd.to_numeric(year['Январь-декабрь_x'], errors='coerce')\n",
    "    year['Январь-сентябрь_x'] = pd.to_numeric(year['Январь-сентябрь_x'], errors='coerce')\n",
    "    year['Январь-июнь_x'] = pd.to_numeric(year['Январь-июнь_x'], errors='coerce')\n",
    "    year['Январь-март_x'] = pd.to_numeric(year['Январь-март_x'], errors='coerce')\n",
    "    year['Январь-декабрь_y'] = pd.to_numeric(year['Январь-декабрь_y'], errors='coerce')\n",
    "    year['Январь-сентябрь_y'] = pd.to_numeric(year['Январь-сентябрь_y'], errors='coerce')\n",
    "    year['Январь-сентябрь_y'] = pd.to_numeric(year['Январь-сентябрь_y'], errors='coerce')\n",
    "    year['Январь-март_y'] = pd.to_numeric(year['Январь-март_y'], errors='coerce')\n",
    "    \n",
    "    year['Январь-декабрь_x'] = (year['Январь-декабрь_x'] - year['Январь-сентябрь_x'])*1000\n",
    "    year['Январь-сентябрь_x'] = (year['Январь-сентябрь_x'] - year['Январь-июнь_x'])*1000\n",
    "    year['Январь-июнь_x'] = (year['Январь-июнь_x'] - year['Январь-март_x'])*1000\n",
    "    year['Январь-март_x'] = year['Январь-март_x']*1000\n",
    "    year['Январь-декабрь_y'] = (year['Январь-декабрь_y'] - year['Январь-сентябрь_y'])*1000\n",
    "    year['Январь-сентябрь_y'] = (year['Январь-сентябрь_y'] - year['Январь-июнь_y'])*1000\n",
    "    year['Январь-июнь_y'] = (year['Январь-июнь_y'] - year['Январь-март_y'])*1000\n",
    "    year['Январь-март_y'] = year['Январь-март_y']*1000\n",
    "\n",
    "    q1= year[['Unnamed: 0','Январь-март_x','Январь-март_y']].rename(columns={'Unnamed: 0':'country','Январь-март_x':'incoming','Январь-март_y':'outgoing'})\n",
    "    q1['date'] = pd.to_datetime('30-03-'+str(a),dayfirst=True)\n",
    "\n",
    "    q2= year[['Unnamed: 0','Январь-июнь_x','Январь-июнь_y']].rename(columns={'Unnamed: 0':'country','Январь-июнь_x':'incoming','Январь-июнь_y':'outgoing'})\n",
    "    q2['date'] = pd.to_datetime('30-06-'+str(a),dayfirst=True)\n",
    "\n",
    "    q3= year[['Unnamed: 0','Январь-сентябрь_x','Январь-сентябрь_y']].rename(columns={'Unnamed: 0':'country','Январь-сентябрь_x':'incoming','Январь-сентябрь_y':'outgoing'})\n",
    "    q3['date'] = pd.to_datetime('30-09-'+str(a),dayfirst=True)\n",
    "\n",
    "    q4= year[['Unnamed: 0','Январь-декабрь_x','Январь-декабрь_y']].rename(columns={'Unnamed: 0':'country','Январь-декабрь_x':'incoming','Январь-декабрь_y':'outgoing'})\n",
    "    q4['date'] = pd.to_datetime('30-12-'+str(a),dayfirst=True)\n",
    "\n",
    "    data = pd.concat([data,q1,q2,q3,q4])"
   ]
  },
  {
   "cell_type": "code",
   "execution_count": 6,
   "id": "62101211-dbd9-4333-9b1d-30a7467233c7",
   "metadata": {},
   "outputs": [
    {
     "data": {
      "text/html": [
       "<div>\n",
       "<style scoped>\n",
       "    .dataframe tbody tr th:only-of-type {\n",
       "        vertical-align: middle;\n",
       "    }\n",
       "\n",
       "    .dataframe tbody tr th {\n",
       "        vertical-align: top;\n",
       "    }\n",
       "\n",
       "    .dataframe thead th {\n",
       "        text-align: right;\n",
       "    }\n",
       "</style>\n",
       "<table border=\"1\" class=\"dataframe\">\n",
       "  <thead>\n",
       "    <tr style=\"text-align: right;\">\n",
       "      <th></th>\n",
       "      <th>date</th>\n",
       "      <th>country</th>\n",
       "      <th>incoming</th>\n",
       "      <th>outgoing</th>\n",
       "    </tr>\n",
       "  </thead>\n",
       "  <tbody>\n",
       "    <tr>\n",
       "      <th>0</th>\n",
       "      <td>2016-03-30</td>\n",
       "      <td>Абхазия</td>\n",
       "      <td>94858.00</td>\n",
       "      <td>631674.00</td>\n",
       "    </tr>\n",
       "    <tr>\n",
       "      <th>1</th>\n",
       "      <td>2016-03-30</td>\n",
       "      <td>Австралия</td>\n",
       "      <td>2312.00</td>\n",
       "      <td>NaN</td>\n",
       "    </tr>\n",
       "    <tr>\n",
       "      <th>2</th>\n",
       "      <td>2016-03-30</td>\n",
       "      <td>Австрия</td>\n",
       "      <td>6964.00</td>\n",
       "      <td>43021.87</td>\n",
       "    </tr>\n",
       "    <tr>\n",
       "      <th>3</th>\n",
       "      <td>2016-03-30</td>\n",
       "      <td>Азербайджан</td>\n",
       "      <td>216044.00</td>\n",
       "      <td>106128.00</td>\n",
       "    </tr>\n",
       "    <tr>\n",
       "      <th>4</th>\n",
       "      <td>2016-03-30</td>\n",
       "      <td>Аргентина</td>\n",
       "      <td>1323.00</td>\n",
       "      <td>NaN</td>\n",
       "    </tr>\n",
       "    <tr>\n",
       "      <th>...</th>\n",
       "      <td>...</td>\n",
       "      <td>...</td>\n",
       "      <td>...</td>\n",
       "      <td>...</td>\n",
       "    </tr>\n",
       "    <tr>\n",
       "      <th>77</th>\n",
       "      <td>2025-12-30</td>\n",
       "      <td>Южная Осетия</td>\n",
       "      <td>NaN</td>\n",
       "      <td>NaN</td>\n",
       "    </tr>\n",
       "    <tr>\n",
       "      <th>78</th>\n",
       "      <td>2025-12-30</td>\n",
       "      <td>Южно-Африканская Республика</td>\n",
       "      <td>NaN</td>\n",
       "      <td>NaN</td>\n",
       "    </tr>\n",
       "    <tr>\n",
       "      <th>79</th>\n",
       "      <td>2025-12-30</td>\n",
       "      <td>Япония</td>\n",
       "      <td>NaN</td>\n",
       "      <td>NaN</td>\n",
       "    </tr>\n",
       "    <tr>\n",
       "      <th>80</th>\n",
       "      <td>2025-12-30</td>\n",
       "      <td>из них в страны:</td>\n",
       "      <td>NaN</td>\n",
       "      <td>NaN</td>\n",
       "    </tr>\n",
       "    <tr>\n",
       "      <th>81</th>\n",
       "      <td>2025-12-30</td>\n",
       "      <td>из них из стран:</td>\n",
       "      <td>NaN</td>\n",
       "      <td>NaN</td>\n",
       "    </tr>\n",
       "  </tbody>\n",
       "</table>\n",
       "<p>3224 rows × 4 columns</p>\n",
       "</div>"
      ],
      "text/plain": [
       "         date                      country  incoming  outgoing\n",
       "0  2016-03-30                     Абхазия   94858.00 631674.00\n",
       "1  2016-03-30                    Австралия   2312.00       NaN\n",
       "2  2016-03-30                      Австрия   6964.00  43021.87\n",
       "3  2016-03-30                  Азербайджан 216044.00 106128.00\n",
       "4  2016-03-30                    Аргентина   1323.00       NaN\n",
       "..        ...                          ...       ...       ...\n",
       "77 2025-12-30                 Южная Осетия       NaN       NaN\n",
       "78 2025-12-30  Южно-Африканская Республика       NaN       NaN\n",
       "79 2025-12-30                       Япония       NaN       NaN\n",
       "80 2025-12-30             из них в страны:       NaN       NaN\n",
       "81 2025-12-30             из них из стран:       NaN       NaN\n",
       "\n",
       "[3224 rows x 4 columns]"
      ]
     },
     "execution_count": 6,
     "metadata": {},
     "output_type": "execute_result"
    }
   ],
   "source": [
    "data"
   ]
  },
  {
   "cell_type": "code",
   "execution_count": 7,
   "id": "20d10bfe-2ce4-4b58-8755-6a779b782800",
   "metadata": {},
   "outputs": [
    {
     "name": "stdout",
     "output_type": "stream",
     "text": [
      "<class 'pandas.core.frame.DataFrame'>\n",
      "Index: 3224 entries, 0 to 81\n",
      "Data columns (total 4 columns):\n",
      " #   Column    Non-Null Count  Dtype         \n",
      "---  ------    --------------  -----         \n",
      " 0   date      3224 non-null   datetime64[ns]\n",
      " 1   country   3224 non-null   object        \n",
      " 2   incoming  2462 non-null   float64       \n",
      " 3   outgoing  2439 non-null   float64       \n",
      "dtypes: datetime64[ns](1), float64(2), object(1)\n",
      "memory usage: 125.9+ KB\n"
     ]
    }
   ],
   "source": [
    "data.info()"
   ]
  },
  {
   "cell_type": "code",
   "execution_count": 8,
   "id": "b4f3514a-eb2f-46c3-93b5-d673ed2fb63c",
   "metadata": {},
   "outputs": [],
   "source": [
    "data = data[data['country'] != 'из них из стран:']\n",
    "data = data[data['country'] != 'из них в страны:']\n",
    "data = data[data['country'] != '* Без учета статистической информации по Донецкой Народной Республике (ДНР), Луганской Народной Республике (ЛНР), Запорожской и Херсонской областям']\n",
    "data = data[data['country'] != '1) Данные уточнены в связи с внесением изменений в Официальную статистическую методологию оценки числа въездных и выездных туристских поездок, утвержденную приказом Росстата от 31 октября 2019 г. № 640 (с изменениями от 12.11.2020 №692)']"
   ]
  },
  {
   "cell_type": "code",
   "execution_count": 9,
   "id": "adbe7ad4-41d8-423e-b6bb-952629563950",
   "metadata": {},
   "outputs": [
    {
     "name": "stdout",
     "output_type": "stream",
     "text": [
      "<class 'pandas.core.frame.DataFrame'>\n",
      "Index: 3124 entries, 0 to 79\n",
      "Data columns (total 4 columns):\n",
      " #   Column    Non-Null Count  Dtype         \n",
      "---  ------    --------------  -----         \n",
      " 0   date      3124 non-null   datetime64[ns]\n",
      " 1   country   3124 non-null   object        \n",
      " 2   incoming  2462 non-null   float64       \n",
      " 3   outgoing  2439 non-null   float64       \n",
      "dtypes: datetime64[ns](1), float64(2), object(1)\n",
      "memory usage: 122.0+ KB\n"
     ]
    }
   ],
   "source": [
    "data.info()"
   ]
  },
  {
   "cell_type": "code",
   "execution_count": 10,
   "id": "f793f3da-3389-471b-823e-935cc5c87208",
   "metadata": {},
   "outputs": [
    {
     "data": {
      "text/plain": [
       "0.0002"
      ]
     },
     "execution_count": 10,
     "metadata": {},
     "output_type": "execute_result"
    }
   ],
   "source": [
    "round((data[data['country'] == 'Всего']['incoming'].sum() - data[data['country'] != 'Всего']['incoming'].sum())/data[data['country'] == 'Всего']['incoming'].sum(),4)"
   ]
  },
  {
   "cell_type": "code",
   "execution_count": 11,
   "id": "ef97f71b-4cb2-4ff6-9295-b05df40c8038",
   "metadata": {},
   "outputs": [
    {
     "data": {
      "text/plain": [
       "-0.0"
      ]
     },
     "execution_count": 11,
     "metadata": {},
     "output_type": "execute_result"
    }
   ],
   "source": [
    "round((data[data['country'] == 'Всего']['outgoing'].sum() - data[data['country'] != 'Всего']['outgoing'].sum())/data[data['country'] == 'Всего']['outgoing'].sum(),4)"
   ]
  },
  {
   "cell_type": "code",
   "execution_count": 13,
   "id": "483e7612-d2aa-49e3-8ffd-3f85c1484ec7",
   "metadata": {
    "scrolled": true
   },
   "outputs": [],
   "source": [
    "data.to_excel('Дашборд по туризму/tourism_quarter.xlsx', index=False)"
   ]
  },
  {
   "cell_type": "code",
   "execution_count": null,
   "id": "435234f3-fdef-4add-89d1-b7e3aecdf79d",
   "metadata": {},
   "outputs": [],
   "source": []
  }
 ],
 "metadata": {
  "kernelspec": {
   "display_name": "Python 3 (ipykernel)",
   "language": "python",
   "name": "python3"
  },
  "language_info": {
   "codemirror_mode": {
    "name": "ipython",
    "version": 3
   },
   "file_extension": ".py",
   "mimetype": "text/x-python",
   "name": "python",
   "nbconvert_exporter": "python",
   "pygments_lexer": "ipython3",
   "version": "3.12.3"
  }
 },
 "nbformat": 4,
 "nbformat_minor": 5
}
