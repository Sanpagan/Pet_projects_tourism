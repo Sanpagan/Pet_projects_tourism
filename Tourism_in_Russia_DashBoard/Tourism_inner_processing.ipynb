{
 "cells": [
  {
   "cell_type": "markdown",
   "id": "ec7c87ef-1a48-4712-8682-93e6d2712ee3",
   "metadata": {},
   "source": [
    "# Предобработка данных Ростуризма для собственного дашборда – Внутренний турпоток\n",
    "\n",
    "Проблематика работы:\n",
    "- Выгрузка данных от Ростуризма неудобная, содержит накопленные квартальные значения по годам, вместо значений по кварталам\n",
    "- Нужно предобработать данные с отчетов Ростуризма: https://rosstat.gov.ru/statistics/turizm для построения собственного дашборда для мониторинга основных показателей индустрии\n"
   ]
  },
  {
   "cell_type": "code",
   "execution_count": 1,
   "id": "b7b94174-8790-4819-942a-eca5aa93f57b",
   "metadata": {},
   "outputs": [],
   "source": [
    "import pandas as pd\n",
    "import numpy as np\n",
    "from matplotlib import pyplot as plt\n",
    "import seaborn as sns\n",
    "from numpy import median\n",
    "\n",
    "\n",
    "pd.set_option('display.max_columns', None)\n",
    "pd.set_option('display.float_format', lambda x: '%.2f' % x)\n",
    "\n"
   ]
  },
  {
   "cell_type": "code",
   "execution_count": 2,
   "id": "16eefb3d-b33f-47e7-9b8a-bb84985cc587",
   "metadata": {},
   "outputs": [],
   "source": [
    "stays_22 = pd.read_excel ('Дашборд по туризму/Turpotok_05-2025.xlsx', sheet_name='2.1.2022', skiprows=5)\n",
    "stays_23 = pd.read_excel ('Дашборд по туризму/Turpotok_05-2025.xlsx', sheet_name='2.1.2023', skiprows=5)\n",
    "stays_24 = pd.read_excel ('Дашборд по туризму/Turpotok_05-2025.xlsx', sheet_name='2.1.2024', skiprows=5)\n",
    "\n",
    "nights_23 = pd.read_excel ('Дашборд по туризму/Turpotok_05-2025.xlsx', sheet_name='2.2.2023', skiprows=5)\n",
    "nights_24 = pd.read_excel ('Дашборд по туризму/Turpotok_05-2025.xlsx', sheet_name='2.2.2024', skiprows=5)\n",
    "\n",
    "monthly_st_22 = pd.read_excel ('Дашборд по туризму/Turpotok_05-2025.xlsx', sheet_name='3.2022', skiprows=5)\n",
    "monthly_st_23 = pd.read_excel ('Дашборд по туризму/Turpotok_05-2025.xlsx', sheet_name='3.2023', skiprows=5)\n",
    "monthly_st_24 = pd.read_excel ('Дашборд по туризму/Turpotok_05-2025.xlsx', sheet_name='3.2024', skiprows=5)\n",
    "monthly_st_25 = pd.read_excel ('Дашборд по туризму/Turpotok_05-2025.xlsx', sheet_name='3.2025', skiprows=5)"
   ]
  },
  {
   "cell_type": "code",
   "execution_count": 3,
   "id": "11d3b938-5ddf-4ee3-ac8e-71559bc1ed11",
   "metadata": {
    "scrolled": true
   },
   "outputs": [],
   "source": [
    "nights_22 = nights_23[0:0]"
   ]
  },
  {
   "cell_type": "code",
   "execution_count": 4,
   "id": "41d870ca-c5b3-4cfb-84e4-c00bd645cb34",
   "metadata": {},
   "outputs": [],
   "source": [
    "stays_list = [stays_22,stays_23,stays_24]\n",
    "nights_list = [nights_22,nights_23,nights_24]\n",
    "monthly_list = [monthly_st_22,monthly_st_23,monthly_st_24,monthly_st_25]"
   ]
  },
  {
   "cell_type": "code",
   "execution_count": 5,
   "id": "9eacfe5b-6d53-460b-a7d8-1abc5dbf1b6e",
   "metadata": {},
   "outputs": [],
   "source": [
    "data = pd.DataFrame(columns=['date','region','stays','nights'])"
   ]
  },
  {
   "cell_type": "code",
   "execution_count": 6,
   "id": "e5cd796a-a768-431c-ba67-f97850f29ab0",
   "metadata": {},
   "outputs": [
    {
     "data": {
      "text/html": [
       "<div>\n",
       "<style scoped>\n",
       "    .dataframe tbody tr th:only-of-type {\n",
       "        vertical-align: middle;\n",
       "    }\n",
       "\n",
       "    .dataframe tbody tr th {\n",
       "        vertical-align: top;\n",
       "    }\n",
       "\n",
       "    .dataframe thead th {\n",
       "        text-align: right;\n",
       "    }\n",
       "</style>\n",
       "<table border=\"1\" class=\"dataframe\">\n",
       "  <thead>\n",
       "    <tr style=\"text-align: right;\">\n",
       "      <th></th>\n",
       "      <th>date</th>\n",
       "      <th>region</th>\n",
       "      <th>stays</th>\n",
       "      <th>nights</th>\n",
       "    </tr>\n",
       "  </thead>\n",
       "  <tbody>\n",
       "  </tbody>\n",
       "</table>\n",
       "</div>"
      ],
      "text/plain": [
       "Empty DataFrame\n",
       "Columns: [date, region, stays, nights]\n",
       "Index: []"
      ]
     },
     "execution_count": 6,
     "metadata": {},
     "output_type": "execute_result"
    }
   ],
   "source": [
    "data"
   ]
  },
  {
   "cell_type": "code",
   "execution_count": 7,
   "id": "064641f5-70ec-4590-a525-785dcbcf97f3",
   "metadata": {},
   "outputs": [
    {
     "data": {
      "text/html": [
       "<div>\n",
       "<style scoped>\n",
       "    .dataframe tbody tr th:only-of-type {\n",
       "        vertical-align: middle;\n",
       "    }\n",
       "\n",
       "    .dataframe tbody tr th {\n",
       "        vertical-align: top;\n",
       "    }\n",
       "\n",
       "    .dataframe thead th {\n",
       "        text-align: right;\n",
       "    }\n",
       "</style>\n",
       "<table border=\"1\" class=\"dataframe\">\n",
       "  <thead>\n",
       "    <tr style=\"text-align: right;\">\n",
       "      <th></th>\n",
       "      <th>Unnamed: 0</th>\n",
       "      <th>январь-март</th>\n",
       "      <th>январь-июнь</th>\n",
       "      <th>январь-сентябрь</th>\n",
       "      <th>январь-декабрь</th>\n",
       "    </tr>\n",
       "  </thead>\n",
       "  <tbody>\n",
       "    <tr>\n",
       "      <th>0</th>\n",
       "      <td>Российская Федерация</td>\n",
       "      <td>26456109.00</td>\n",
       "      <td>66297745.00</td>\n",
       "      <td>121697302.00</td>\n",
       "      <td>153051341.00</td>\n",
       "    </tr>\n",
       "    <tr>\n",
       "      <th>1</th>\n",
       "      <td>Центральный федеральный округ</td>\n",
       "      <td>9114447.00</td>\n",
       "      <td>23055750.00</td>\n",
       "      <td>39178686.00</td>\n",
       "      <td>50831408.00</td>\n",
       "    </tr>\n",
       "    <tr>\n",
       "      <th>2</th>\n",
       "      <td>Белгородская область</td>\n",
       "      <td>158134.00</td>\n",
       "      <td>278586.00</td>\n",
       "      <td>472479.00</td>\n",
       "      <td>584940.00</td>\n",
       "    </tr>\n",
       "    <tr>\n",
       "      <th>3</th>\n",
       "      <td>Брянская область</td>\n",
       "      <td>87082.00</td>\n",
       "      <td>201906.00</td>\n",
       "      <td>443211.00</td>\n",
       "      <td>611730.00</td>\n",
       "    </tr>\n",
       "    <tr>\n",
       "      <th>4</th>\n",
       "      <td>Владимирская область</td>\n",
       "      <td>213101.00</td>\n",
       "      <td>496071.00</td>\n",
       "      <td>995329.00</td>\n",
       "      <td>1181734.00</td>\n",
       "    </tr>\n",
       "    <tr>\n",
       "      <th>...</th>\n",
       "      <td>...</td>\n",
       "      <td>...</td>\n",
       "      <td>...</td>\n",
       "      <td>...</td>\n",
       "      <td>...</td>\n",
       "    </tr>\n",
       "    <tr>\n",
       "      <th>92</th>\n",
       "      <td>Магаданская область</td>\n",
       "      <td>17284.00</td>\n",
       "      <td>38821.00</td>\n",
       "      <td>66623.00</td>\n",
       "      <td>86539.00</td>\n",
       "    </tr>\n",
       "    <tr>\n",
       "      <th>93</th>\n",
       "      <td>Сахалинская область</td>\n",
       "      <td>97659.00</td>\n",
       "      <td>160149.00</td>\n",
       "      <td>249917.00</td>\n",
       "      <td>307254.00</td>\n",
       "    </tr>\n",
       "    <tr>\n",
       "      <th>94</th>\n",
       "      <td>Еврейская автономная область</td>\n",
       "      <td>8014.00</td>\n",
       "      <td>30679.00</td>\n",
       "      <td>43642.00</td>\n",
       "      <td>54035.00</td>\n",
       "    </tr>\n",
       "    <tr>\n",
       "      <th>95</th>\n",
       "      <td>Чукотский автономный округ</td>\n",
       "      <td>8793.00</td>\n",
       "      <td>18589.00</td>\n",
       "      <td>57941.00</td>\n",
       "      <td>66008.00</td>\n",
       "    </tr>\n",
       "    <tr>\n",
       "      <th>96</th>\n",
       "      <td>* Без учета статистической информации по Донец...</td>\n",
       "      <td>NaN</td>\n",
       "      <td>NaN</td>\n",
       "      <td>NaN</td>\n",
       "      <td>NaN</td>\n",
       "    </tr>\n",
       "  </tbody>\n",
       "</table>\n",
       "<p>97 rows × 5 columns</p>\n",
       "</div>"
      ],
      "text/plain": [
       "                                           Unnamed: 0  январь-март  \\\n",
       "0                                Российская Федерация  26456109.00   \n",
       "1                       Центральный федеральный округ   9114447.00   \n",
       "2                                Белгородская область    158134.00   \n",
       "3                                    Брянская область     87082.00   \n",
       "4                                Владимирская область    213101.00   \n",
       "..                                                ...          ...   \n",
       "92                                Магаданская область     17284.00   \n",
       "93                                Сахалинская область     97659.00   \n",
       "94                       Еврейская автономная область      8014.00   \n",
       "95                         Чукотский автономный округ      8793.00   \n",
       "96  * Без учета статистической информации по Донец...          NaN   \n",
       "\n",
       "    январь-июнь  январь-сентябрь  январь-декабрь  \n",
       "0   66297745.00     121697302.00    153051341.00  \n",
       "1   23055750.00      39178686.00     50831408.00  \n",
       "2     278586.00        472479.00       584940.00  \n",
       "3     201906.00        443211.00       611730.00  \n",
       "4     496071.00        995329.00      1181734.00  \n",
       "..          ...              ...             ...  \n",
       "92     38821.00         66623.00        86539.00  \n",
       "93    160149.00        249917.00       307254.00  \n",
       "94     30679.00         43642.00        54035.00  \n",
       "95     18589.00         57941.00        66008.00  \n",
       "96          NaN              NaN             NaN  \n",
       "\n",
       "[97 rows x 5 columns]"
      ]
     },
     "execution_count": 7,
     "metadata": {},
     "output_type": "execute_result"
    }
   ],
   "source": [
    "stays_23"
   ]
  },
  {
   "cell_type": "code",
   "execution_count": 8,
   "id": "ae672ce4-b632-4cbf-83f4-d1516360fb15",
   "metadata": {},
   "outputs": [
    {
     "data": {
      "text/plain": [
       "Timestamp('2015-01-03 00:00:00')"
      ]
     },
     "execution_count": 8,
     "metadata": {},
     "output_type": "execute_result"
    }
   ],
   "source": [
    "a=2015\n",
    "pd.to_datetime('01-03-'+str(a))"
   ]
  },
  {
   "cell_type": "code",
   "execution_count": 9,
   "id": "83fccd7c-7eed-4089-891d-9df949e1ae7c",
   "metadata": {},
   "outputs": [
    {
     "name": "stderr",
     "output_type": "stream",
     "text": [
      "C:\\Users\\user\\AppData\\Local\\Temp\\ipykernel_4024\\951424477.py:67: FutureWarning: The behavior of DataFrame concatenation with empty or all-NA entries is deprecated. In a future version, this will no longer exclude empty or all-NA columns when determining the result dtypes. To retain the old behavior, exclude the relevant entries before the concat operation.\n",
      "  data = pd.concat([data,q1,q2,q3,q4])\n"
     ]
    }
   ],
   "source": [
    "for i in range(len(stays_list)):\n",
    "    a=2022+i\n",
    "#    display(a)\n",
    "    stay = stays_list[i]\n",
    "    night = nights_list[i]\n",
    "    stay.columns = stay.columns.str.replace('январь-декабрь1)','январь-декабрь')\n",
    "    stay.columns = stay.columns.str.replace('январь-сентябрь1)','январь-сентябрь')\n",
    "    stay.columns = stay.columns.str.replace('январь-июнь1)','январь-июнь')\n",
    "    stay.columns = stay.columns.str.replace('январь-март1)','январь-март')\n",
    "    night.columns = night.columns.str.replace('январь-декабрь1)','январь-декабрь')\n",
    "    night.columns = night.columns.str.replace('январь-сентябрь1)','январь-сентябрь')\n",
    "    night.columns = night.columns.str.replace('январь-июнь1)','январь-июнь')\n",
    "    night.columns = night.columns.str.replace('январь-март1)','январь-март')\n",
    "    \n",
    "    stay.columns = stay.columns.str.replace('январь-декабрь*','январь-декабрь')\n",
    "    night.columns = night.columns.str.replace('январь-декабрь*','январь-декабрь')\n",
    "    \n",
    "#    print (a, 'stay')\n",
    "#    display(stay)\n",
    "#    print (a, 'night')\n",
    "#    display(night)\n",
    "    \n",
    "    year = stay.merge(night, how='outer', on='Unnamed: 0')\n",
    "    year = year.replace(',','.')\n",
    "\n",
    "    year['январь-декабрь_x'] = pd.to_numeric(year['январь-декабрь_x'], errors='coerce')\n",
    "    year['январь-сентябрь_x'] = pd.to_numeric(year['январь-сентябрь_x'], errors='coerce')\n",
    "    year['январь-июнь_x'] = pd.to_numeric(year['январь-июнь_x'], errors='coerce')\n",
    "    year['январь-март_x'] = pd.to_numeric(year['январь-март_x'], errors='coerce')\n",
    "    year['январь-декабрь_y'] = pd.to_numeric(year['январь-декабрь_y'], errors='coerce')\n",
    "    year['январь-сентябрь_y'] = pd.to_numeric(year['январь-сентябрь_y'], errors='coerce')\n",
    "    year['январь-сентябрь_y'] = pd.to_numeric(year['январь-сентябрь_y'], errors='coerce')\n",
    "    year['январь-март_y'] = pd.to_numeric(year['январь-март_y'], errors='coerce')\n",
    "    \n",
    "    year['январь-декабрь_x'] = (year['январь-декабрь_x'] - year['январь-сентябрь_x'])\n",
    "    year['январь-сентябрь_x'] = (year['январь-сентябрь_x'] - year['январь-июнь_x'])\n",
    "    year['январь-июнь_x'] = (year['январь-июнь_x'] - year['январь-март_x'])\n",
    "    year['январь-март_x'] = year['январь-март_x']\n",
    "    year['январь-декабрь_y'] = (year['январь-декабрь_y'] - year['январь-сентябрь_y'])\n",
    "    year['январь-сентябрь_y'] = (year['январь-сентябрь_y'] - year['январь-июнь_y'])\n",
    "    year['январь-июнь_y'] = (year['январь-июнь_y'] - year['январь-март_y'])\n",
    "    year['январь-март_y'] = year['январь-март_y']\n",
    "\n",
    "#    print (a, 'year')\n",
    "#    display(year)\n",
    "\n",
    "    q1= year[['Unnamed: 0','январь-март_x','январь-март_y']].rename(columns={'Unnamed: 0':'region','январь-март_x':'stays','январь-март_y':'nights'})\n",
    "    q1['date'] = pd.to_datetime('30-03-'+str(a),dayfirst=True)\n",
    "#    print (a, 'q1')\n",
    "#    display(q1)\n",
    "\n",
    "    q2= year[['Unnamed: 0','январь-июнь_x','январь-июнь_y']].rename(columns={'Unnamed: 0':'region','январь-июнь_x':'stays','январь-июнь_y':'nights'})\n",
    "    q2['date'] = pd.to_datetime('30-06-'+str(a),dayfirst=True)\n",
    "#    print (a, 'q2')\n",
    "#    display(q2)\n",
    "\n",
    "    q3= year[['Unnamed: 0','январь-сентябрь_x','январь-сентябрь_y']].rename(columns={'Unnamed: 0':'region','январь-сентябрь_x':'stays','январь-сентябрь_y':'nights'})\n",
    "    q3['date'] = pd.to_datetime('30-09-'+str(a),dayfirst=True)\n",
    "#    print (a, 'q3')\n",
    "#    display(q3)\n",
    "\n",
    "    q4= year[['Unnamed: 0','январь-декабрь_x','январь-декабрь_y']].rename(columns={'Unnamed: 0':'region','январь-декабрь_x':'stays','январь-декабрь_y':'nights'})\n",
    "    q4['date'] = pd.to_datetime('30-12-'+str(a),dayfirst=True)\n",
    "#    print (a, 'q4')\n",
    "#    display(q4)\n",
    "\n",
    "    data = pd.concat([data,q1,q2,q3,q4])"
   ]
  },
  {
   "cell_type": "code",
   "execution_count": 10,
   "id": "62101211-dbd9-4333-9b1d-30a7467233c7",
   "metadata": {},
   "outputs": [],
   "source": [
    "#data\n"
   ]
  },
  {
   "cell_type": "code",
   "execution_count": 11,
   "id": "20d10bfe-2ce4-4b58-8755-6a779b782800",
   "metadata": {},
   "outputs": [],
   "source": [
    "#data.info()"
   ]
  },
  {
   "cell_type": "code",
   "execution_count": 12,
   "id": "3bd9563a-d147-479f-ab48-224faa2bf706",
   "metadata": {},
   "outputs": [],
   "source": [
    "#data['region'].value_counts()"
   ]
  },
  {
   "cell_type": "code",
   "execution_count": 13,
   "id": "b4f3514a-eb2f-46c3-93b5-d673ed2fb63c",
   "metadata": {},
   "outputs": [],
   "source": [
    "data = data[data['region'] != '* Без учета статистической информации по Донецкой Народной Республике (ДНР), Луганской Народной Республике (ЛНР), Запорожской и Херсонской областям\\n** Без учета временно эвакуированных граждан']"
   ]
  },
  {
   "cell_type": "code",
   "execution_count": 14,
   "id": "adbe7ad4-41d8-423e-b6bb-952629563950",
   "metadata": {},
   "outputs": [
    {
     "name": "stdout",
     "output_type": "stream",
     "text": [
      "<class 'pandas.core.frame.DataFrame'>\n",
      "Index: 1152 entries, 1 to 96\n",
      "Data columns (total 4 columns):\n",
      " #   Column  Non-Null Count  Dtype         \n",
      "---  ------  --------------  -----         \n",
      " 0   date    1152 non-null   datetime64[ns]\n",
      " 1   region  1152 non-null   object        \n",
      " 2   stays   1152 non-null   float64       \n",
      " 3   nights  768 non-null    float64       \n",
      "dtypes: datetime64[ns](1), float64(2), object(1)\n",
      "memory usage: 45.0+ KB\n"
     ]
    }
   ],
   "source": [
    "data.info()"
   ]
  },
  {
   "cell_type": "code",
   "execution_count": 15,
   "id": "483e7612-d2aa-49e3-8ffd-3f85c1484ec7",
   "metadata": {},
   "outputs": [],
   "source": [
    "data.to_excel('Дашборд по туризму/tourism_inner_quarter.xlsx', index=False)"
   ]
  },
  {
   "cell_type": "code",
   "execution_count": 16,
   "id": "cd5a803d-f605-4557-a0d0-be36020aa124",
   "metadata": {},
   "outputs": [
    {
     "data": {
      "text/html": [
       "<div>\n",
       "<style scoped>\n",
       "    .dataframe tbody tr th:only-of-type {\n",
       "        vertical-align: middle;\n",
       "    }\n",
       "\n",
       "    .dataframe tbody tr th {\n",
       "        vertical-align: top;\n",
       "    }\n",
       "\n",
       "    .dataframe thead th {\n",
       "        text-align: right;\n",
       "    }\n",
       "</style>\n",
       "<table border=\"1\" class=\"dataframe\">\n",
       "  <thead>\n",
       "    <tr style=\"text-align: right;\">\n",
       "      <th></th>\n",
       "      <th>date</th>\n",
       "      <th>region</th>\n",
       "      <th>stays</th>\n",
       "    </tr>\n",
       "  </thead>\n",
       "  <tbody>\n",
       "  </tbody>\n",
       "</table>\n",
       "</div>"
      ],
      "text/plain": [
       "Empty DataFrame\n",
       "Columns: [date, region, stays]\n",
       "Index: []"
      ]
     },
     "execution_count": 16,
     "metadata": {},
     "output_type": "execute_result"
    }
   ],
   "source": [
    "data_month = pd.DataFrame(columns=['date','region','stays'])\n",
    "data_month"
   ]
  },
  {
   "cell_type": "code",
   "execution_count": 17,
   "id": "739a2793-3219-46d7-9294-ef2a1f64ff2e",
   "metadata": {},
   "outputs": [
    {
     "name": "stderr",
     "output_type": "stream",
     "text": [
      "C:\\Users\\user\\AppData\\Local\\Temp\\ipykernel_4024\\2742012136.py:84: FutureWarning: The behavior of DataFrame concatenation with empty or all-NA entries is deprecated. In a future version, this will no longer exclude empty or all-NA columns when determining the result dtypes. To retain the old behavior, exclude the relevant entries before the concat operation.\n",
      "  data_month = pd.concat([data_month,m1,m2,m3,m4,m5,m6,m7,m8,m9,m10,m11,m12])\n"
     ]
    }
   ],
   "source": [
    "for i in range(len(monthly_list)):\n",
    "    a=2022+i\n",
    "#    display(a)\n",
    "\n",
    "    \n",
    "    month = monthly_list[i]\n",
    "    month.columns = month.columns.str.replace('*','')\n",
    "    \n",
    "    month['декабрь'] = (month['январь-декабрь'] - month['январь-ноябрь'])\n",
    "    month['ноябрь'] = (month['январь-ноябрь'] - month['январь-октябрь'])\n",
    "    month['октябрь'] = (month['январь-октябрь'] - month['январь-сентябрь'])\n",
    "    month['сентябрь'] = (month['январь-сентябрь'] - month['январь-август'])\n",
    "    month['август'] = (month['январь-август'] - month['январь-июль'])\n",
    "    month['июль'] = (month['январь-июль'] - month['январь-июнь'])\n",
    "    month['июнь'] = (month['январь-июнь'] - month['январь-май'])\n",
    "    month['май'] = (month['январь-май'] - month['январь-апрель'])\n",
    "    month['апрель'] = (month['январь-апрель'] - month['январь-март'])\n",
    "    month['март'] = (month['январь-март'] - month['январь-февраль'])\n",
    "    month['февраль'] = (month['январь-февраль'] - month['январь'])\n",
    "\n",
    "#    print (a, 'year')\n",
    "#    display(month)\n",
    "\n",
    "    m1= month[['Unnamed: 0','январь']].rename(columns={'Unnamed: 0':'region','январь':'stays'})\n",
    "    m1['date'] = pd.to_datetime('30-01-'+str(a),dayfirst=True)\n",
    "#    print (a, 'm1')\n",
    "#    display(m1)\n",
    "\n",
    "    m2= month[['Unnamed: 0','февраль']].rename(columns={'Unnamed: 0':'region','февраль':'stays'})\n",
    "    m2['date'] = pd.to_datetime('28-02-'+str(a),dayfirst=True)\n",
    "#    print (a, 'm2')\n",
    "#    display(m2)\n",
    "\n",
    "    m3= month[['Unnamed: 0','март']].rename(columns={'Unnamed: 0':'region','март':'stays'})\n",
    "    m3['date'] = pd.to_datetime('30-03-'+str(a),dayfirst=True)\n",
    "#    print (a, 'm3')\n",
    "#    display(m3)\n",
    "\n",
    "    m4= month[['Unnamed: 0','апрель']].rename(columns={'Unnamed: 0':'region','апрель':'stays'})\n",
    "    m4['date'] = pd.to_datetime('30-04-'+str(a),dayfirst=True)\n",
    "#    print (a, 'm4')\n",
    "#    display(m4)\n",
    "\n",
    "    m5= month[['Unnamed: 0','май']].rename(columns={'Unnamed: 0':'region','май':'stays'})\n",
    "    m5['date'] = pd.to_datetime('30-05-'+str(a),dayfirst=True)\n",
    "#    print (a, 'm5')\n",
    "#    display(m5)\n",
    "\n",
    "    m6= month[['Unnamed: 0','июнь']].rename(columns={'Unnamed: 0':'region','июнь':'stays'})\n",
    "    m6['date'] = pd.to_datetime('30-06-'+str(a),dayfirst=True)\n",
    "#    print (a, 'm6')\n",
    "#    display(m6)\n",
    "\n",
    "    m7= month[['Unnamed: 0','июль']].rename(columns={'Unnamed: 0':'region','июль':'stays'})\n",
    "    m7['date'] = pd.to_datetime('30-07-'+str(a),dayfirst=True)\n",
    "#    print (a, 'm7')\n",
    "#    display(m7)\n",
    "\n",
    "    m8= month[['Unnamed: 0','август']].rename(columns={'Unnamed: 0':'region','август':'stays'})\n",
    "    m8['date'] = pd.to_datetime('30-08-'+str(a),dayfirst=True)\n",
    "#    print (a, 'm8')\n",
    "#    display(m8)\n",
    "\n",
    "    m9= month[['Unnamed: 0','сентябрь']].rename(columns={'Unnamed: 0':'region','сентябрь':'stays'})\n",
    "    m9['date'] = pd.to_datetime('30-09-'+str(a),dayfirst=True)\n",
    "#    print (a, 'm9')\n",
    "#    display(m9)\n",
    "\n",
    "    m10= month[['Unnamed: 0','октябрь']].rename(columns={'Unnamed: 0':'region','октябрь':'stays'})\n",
    "    m10['date'] = pd.to_datetime('30-10-'+str(a),dayfirst=True)\n",
    "#    print (a, 'm10')\n",
    "#    display(m10)\n",
    "\n",
    "    m11= month[['Unnamed: 0','ноябрь']].rename(columns={'Unnamed: 0':'region','ноябрь':'stays'})\n",
    "    m11['date'] = pd.to_datetime('30-11-'+str(a),dayfirst=True)\n",
    "#    print (a, 'm11')\n",
    "#    display(m11)\n",
    "\n",
    "    m12= month[['Unnamed: 0','декабрь']].rename(columns={'Unnamed: 0':'region','декабрь':'stays'})\n",
    "    m12['date'] = pd.to_datetime('30-12-'+str(a),dayfirst=True)\n",
    "#    print (a, 'm12')\n",
    "#    display(m12)\n",
    "\n",
    "    data_month = pd.concat([data_month,m1,m2,m3,m4,m5,m6,m7,m8,m9,m10,m11,m12])"
   ]
  },
  {
   "cell_type": "code",
   "execution_count": 18,
   "id": "2e89ae09-69aa-43f0-9cb1-02f3e81a38da",
   "metadata": {},
   "outputs": [
    {
     "data": {
      "text/plain": [
       "region\n",
       "Российская Федерация                                                                                                                                                                                 48\n",
       "Ставропольский край                                                                                                                                                                                  48\n",
       "Тюменская область (кроме Ханты-Мансийского автономного округа-Югры и Ямало-Ненецкого автономного округа)                                                                                             48\n",
       "Ямало-Ненецкий автономный округ                                                                                                                                                                      48\n",
       "Ханты-Мансийский автономный округ - Югра                                                                                                                                                             48\n",
       "                                                                                                                                                                                                     ..\n",
       "Новгородская область                                                                                                                                                                                 48\n",
       "Мурманская область                                                                                                                                                                                   48\n",
       "Ленинградская область                                                                                                                                                                                48\n",
       "Калининградская область                                                                                                                                                                              48\n",
       "* Без учета статистической информации по Донецкой Народной Республике (ДНР), Луганской Народной Республике (ЛНР), Запорожской и Херсонской областям\\n** Без учета временно эвакуированных граждан    48\n",
       "Name: count, Length: 97, dtype: int64"
      ]
     },
     "execution_count": 18,
     "metadata": {},
     "output_type": "execute_result"
    }
   ],
   "source": [
    "data_month['region'].value_counts()\n"
   ]
  },
  {
   "cell_type": "code",
   "execution_count": 19,
   "id": "f3973789-ab17-46ee-8e97-0d67313a1440",
   "metadata": {},
   "outputs": [
    {
     "name": "stdout",
     "output_type": "stream",
     "text": [
      "<class 'pandas.core.frame.DataFrame'>\n",
      "Index: 4656 entries, 0 to 96\n",
      "Data columns (total 3 columns):\n",
      " #   Column  Non-Null Count  Dtype         \n",
      "---  ------  --------------  -----         \n",
      " 0   date    4656 non-null   datetime64[ns]\n",
      " 1   region  4656 non-null   object        \n",
      " 2   stays   3936 non-null   float64       \n",
      "dtypes: datetime64[ns](1), float64(1), object(1)\n",
      "memory usage: 145.5+ KB\n"
     ]
    }
   ],
   "source": [
    "data_month.info()"
   ]
  },
  {
   "cell_type": "code",
   "execution_count": 20,
   "id": "33a0567c-6dd0-4e6e-9158-93a442028648",
   "metadata": {},
   "outputs": [],
   "source": [
    "data_month = data_month[data_month['region'] != '* Без учета статистической информации по Донецкой Народной Республике (ДНР), Луганской Народной Республике (ЛНР), Запорожской и Херсонской областям\\n** Без учета временно эвакуированных граждан']"
   ]
  },
  {
   "cell_type": "code",
   "execution_count": 21,
   "id": "435234f3-fdef-4add-89d1-b7e3aecdf79d",
   "metadata": {},
   "outputs": [],
   "source": [
    "data_month.to_excel('Дашборд по туризму/tourism_inner_month.xlsx', index=False)"
   ]
  }
 ],
 "metadata": {
  "kernelspec": {
   "display_name": "Python 3 (ipykernel)",
   "language": "python",
   "name": "python3"
  },
  "language_info": {
   "codemirror_mode": {
    "name": "ipython",
    "version": 3
   },
   "file_extension": ".py",
   "mimetype": "text/x-python",
   "name": "python",
   "nbconvert_exporter": "python",
   "pygments_lexer": "ipython3",
   "version": "3.12.3"
  }
 },
 "nbformat": 4,
 "nbformat_minor": 5
}
